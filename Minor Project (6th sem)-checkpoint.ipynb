{
 "cells": [
  {
   "cell_type": "markdown",
   "id": "3b0917c1",
   "metadata": {},
   "source": [
    "# Identification of Cyberbullying in Social Media with Multimodal Analysis"
   ]
  },
  {
   "cell_type": "markdown",
   "id": "f4fa7f5f",
   "metadata": {},
   "source": [
    "## Importing Necessary Libraries"
   ]
  },
  {
   "cell_type": "code",
   "execution_count": 6,
   "id": "ca34db39",
   "metadata": {},
   "outputs": [
    {
     "name": "stderr",
     "output_type": "stream",
     "text": [
      "[nltk_data] Downloading package wordnet to\n",
      "[nltk_data]     C:\\Users\\KIIT\\AppData\\Roaming\\nltk_data...\n",
      "[nltk_data]   Package wordnet is already up-to-date!\n"
     ]
    },
    {
     "data": {
      "text/plain": [
       "True"
      ]
     },
     "execution_count": 6,
     "metadata": {},
     "output_type": "execute_result"
    }
   ],
   "source": [
    "import pandas as pd\n",
    "import pickle\n",
    "import random\n",
    "from tensorflow.keras.models import Sequential\n",
    "\n",
    "from tensorflow.keras.layers import Dense,Dropout,Activation, Flatten, Conv2D, MaxPooling2D\n",
    "# import tensorflow.keras as keras\n",
    "import nltk\n",
    "nltk.download('wordnet')"
   ]
  },
  {
   "cell_type": "markdown",
   "id": "1c25b251",
   "metadata": {},
   "source": [
    "## Peprocessing of Raw Data"
   ]
  },
  {
   "cell_type": "code",
   "execution_count": 7,
   "id": "e42c7c0f",
   "metadata": {},
   "outputs": [],
   "source": [
    "def process_csv(input_csv, text_output_csv, labels_output_csv):\n",
    "    # Read the input CSV file\n",
    "    df = pd.read_csv(input_csv)\n",
    "\n",
    "    # Check if required columns are present\n",
    "    if 'text' not in df.columns or 'label' not in df.columns:\n",
    "        print(\"Error: 'text' or 'labels' columns not found in the input CSV file.\")\n",
    "        return\n",
    "\n",
    "    # Separate text and labels\n",
    "    texts = df['text']\n",
    "    labels = df['label']\n",
    "\n",
    "    # Convert labels to binary values\n",
    "    labels_binary = [1 if label == 'Bullying' else 0 for label in labels]\n",
    "\n",
    "    # Write text to CSV\n",
    "    pd.DataFrame({'text': texts}).to_csv(text_output_csv, index=False)\n",
    "\n",
    "    # Write binary labels to CSV\n",
    "    pd.DataFrame({'label': labels_binary}).to_csv(labels_output_csv, index=False)\n",
    "\n",
    "# Example usage\n",
    "input_csv_file = 'Approach to Social Media Cyberbullying and Harassment Detection Using Advanced Machine Learning.csv'\n",
    "text_output_csv_file = 'texts.csv'\n",
    "labels_output_csv_file = 'labels.csv'\n",
    "\n",
    "process_csv(input_csv_file, text_output_csv_file, labels_output_csv_file)\n",
    "\n",
    "# Generate sample text data\n",
    "sample_text_data = pd.read_csv(\"texts.csv\")\n",
    "sample_text_data.to_csv('sample_text_data.csv', index=False)\n",
    "\n",
    "# Generate sample labels\n",
    "sample_labels = pd.read_csv(\"labels.csv\")\n",
    "sample_labels.to_csv('sample_labels.csv', index=False)"
   ]
  },
  {
   "cell_type": "markdown",
   "id": "4e42cd9e",
   "metadata": {},
   "source": [
    "## Training The Model"
   ]
  },
  {
   "cell_type": "code",
   "execution_count": 8,
   "id": "2252f164",
   "metadata": {},
   "outputs": [
    {
     "name": "stdout",
     "output_type": "stream",
     "text": [
      "\u001b[1m1/1\u001b[0m \u001b[32m━━━━━━━━━━━━━━━━━━━━\u001b[0m\u001b[37m\u001b[0m \u001b[1m1s\u001b[0m 706ms/step\n",
      "\u001b[1m1/1\u001b[0m \u001b[32m━━━━━━━━━━━━━━━━━━━━\u001b[0m\u001b[37m\u001b[0m \u001b[1m0s\u001b[0m 298ms/step\n",
      "\u001b[1m1/1\u001b[0m \u001b[32m━━━━━━━━━━━━━━━━━━━━\u001b[0m\u001b[37m\u001b[0m \u001b[1m0s\u001b[0m 456ms/step\n",
      "\u001b[1m1/1\u001b[0m \u001b[32m━━━━━━━━━━━━━━━━━━━━\u001b[0m\u001b[37m\u001b[0m \u001b[1m0s\u001b[0m 261ms/step\n",
      "\u001b[1m1/1\u001b[0m \u001b[32m━━━━━━━━━━━━━━━━━━━━\u001b[0m\u001b[37m\u001b[0m \u001b[1m0s\u001b[0m 361ms/step\n",
      "\u001b[1m1/1\u001b[0m \u001b[32m━━━━━━━━━━━━━━━━━━━━\u001b[0m\u001b[37m\u001b[0m \u001b[1m0s\u001b[0m 251ms/step\n",
      "\u001b[1m1/1\u001b[0m \u001b[32m━━━━━━━━━━━━━━━━━━━━\u001b[0m\u001b[37m\u001b[0m \u001b[1m0s\u001b[0m 376ms/step\n",
      "\u001b[1m1/1\u001b[0m \u001b[32m━━━━━━━━━━━━━━━━━━━━\u001b[0m\u001b[37m\u001b[0m \u001b[1m0s\u001b[0m 251ms/step\n",
      "\u001b[1m1/1\u001b[0m \u001b[32m━━━━━━━━━━━━━━━━━━━━\u001b[0m\u001b[37m\u001b[0m \u001b[1m0s\u001b[0m 251ms/step\n",
      "\u001b[1m1/1\u001b[0m \u001b[32m━━━━━━━━━━━━━━━━━━━━\u001b[0m\u001b[37m\u001b[0m \u001b[1m0s\u001b[0m 346ms/step\n",
      "\u001b[1m1/1\u001b[0m \u001b[32m━━━━━━━━━━━━━━━━━━━━\u001b[0m\u001b[37m\u001b[0m \u001b[1m0s\u001b[0m 252ms/step\n",
      "\u001b[1m1/1\u001b[0m \u001b[32m━━━━━━━━━━━━━━━━━━━━\u001b[0m\u001b[37m\u001b[0m \u001b[1m0s\u001b[0m 392ms/step\n",
      "\u001b[1m1/1\u001b[0m \u001b[32m━━━━━━━━━━━━━━━━━━━━\u001b[0m\u001b[37m\u001b[0m \u001b[1m0s\u001b[0m 258ms/step\n",
      "\u001b[1m1/1\u001b[0m \u001b[32m━━━━━━━━━━━━━━━━━━━━\u001b[0m\u001b[37m\u001b[0m \u001b[1m0s\u001b[0m 235ms/step\n",
      "\u001b[1m1/1\u001b[0m \u001b[32m━━━━━━━━━━━━━━━━━━━━\u001b[0m\u001b[37m\u001b[0m \u001b[1m0s\u001b[0m 352ms/step\n",
      "\u001b[1m1/1\u001b[0m \u001b[32m━━━━━━━━━━━━━━━━━━━━\u001b[0m\u001b[37m\u001b[0m \u001b[1m0s\u001b[0m 236ms/step\n",
      "\u001b[1m1/1\u001b[0m \u001b[32m━━━━━━━━━━━━━━━━━━━━\u001b[0m\u001b[37m\u001b[0m \u001b[1m0s\u001b[0m 402ms/step\n",
      "\u001b[1m1/1\u001b[0m \u001b[32m━━━━━━━━━━━━━━━━━━━━\u001b[0m\u001b[37m\u001b[0m \u001b[1m0s\u001b[0m 279ms/step\n",
      "\u001b[1m1/1\u001b[0m \u001b[32m━━━━━━━━━━━━━━━━━━━━\u001b[0m\u001b[37m\u001b[0m \u001b[1m0s\u001b[0m 251ms/step\n",
      "\u001b[1m1/1\u001b[0m \u001b[32m━━━━━━━━━━━━━━━━━━━━\u001b[0m\u001b[37m\u001b[0m \u001b[1m0s\u001b[0m 322ms/step\n",
      "\u001b[1m1/1\u001b[0m \u001b[32m━━━━━━━━━━━━━━━━━━━━\u001b[0m\u001b[37m\u001b[0m \u001b[1m0s\u001b[0m 267ms/step\n",
      "\u001b[1m1/1\u001b[0m \u001b[32m━━━━━━━━━━━━━━━━━━━━\u001b[0m\u001b[37m\u001b[0m \u001b[1m0s\u001b[0m 283ms/step\n",
      "\u001b[1m1/1\u001b[0m \u001b[32m━━━━━━━━━━━━━━━━━━━━\u001b[0m\u001b[37m\u001b[0m \u001b[1m0s\u001b[0m 369ms/step\n",
      "\u001b[1m1/1\u001b[0m \u001b[32m━━━━━━━━━━━━━━━━━━━━\u001b[0m\u001b[37m\u001b[0m \u001b[1m0s\u001b[0m 282ms/step\n",
      "\u001b[1m1/1\u001b[0m \u001b[32m━━━━━━━━━━━━━━━━━━━━\u001b[0m\u001b[37m\u001b[0m \u001b[1m0s\u001b[0m 250ms/step\n",
      "\u001b[1m1/1\u001b[0m \u001b[32m━━━━━━━━━━━━━━━━━━━━\u001b[0m\u001b[37m\u001b[0m \u001b[1m0s\u001b[0m 315ms/step\n",
      "\u001b[1m1/1\u001b[0m \u001b[32m━━━━━━━━━━━━━━━━━━━━\u001b[0m\u001b[37m\u001b[0m \u001b[1m0s\u001b[0m 268ms/step\n",
      "\u001b[1m1/1\u001b[0m \u001b[32m━━━━━━━━━━━━━━━━━━━━\u001b[0m\u001b[37m\u001b[0m \u001b[1m0s\u001b[0m 345ms/step\n",
      "\u001b[1m1/1\u001b[0m \u001b[32m━━━━━━━━━━━━━━━━━━━━\u001b[0m\u001b[37m\u001b[0m \u001b[1m0s\u001b[0m 251ms/step\n",
      "\u001b[1m1/1\u001b[0m \u001b[32m━━━━━━━━━━━━━━━━━━━━\u001b[0m\u001b[37m\u001b[0m \u001b[1m0s\u001b[0m 408ms/step\n",
      "\u001b[1m1/1\u001b[0m \u001b[32m━━━━━━━━━━━━━━━━━━━━\u001b[0m\u001b[37m\u001b[0m \u001b[1m0s\u001b[0m 282ms/step\n",
      "\u001b[1m1/1\u001b[0m \u001b[32m━━━━━━━━━━━━━━━━━━━━\u001b[0m\u001b[37m\u001b[0m \u001b[1m0s\u001b[0m 267ms/step\n",
      "\u001b[1m1/1\u001b[0m \u001b[32m━━━━━━━━━━━━━━━━━━━━\u001b[0m\u001b[37m\u001b[0m \u001b[1m0s\u001b[0m 377ms/step\n",
      "\u001b[1m1/1\u001b[0m \u001b[32m━━━━━━━━━━━━━━━━━━━━\u001b[0m\u001b[37m\u001b[0m \u001b[1m0s\u001b[0m 251ms/step\n",
      "\u001b[1m1/1\u001b[0m \u001b[32m━━━━━━━━━━━━━━━━━━━━\u001b[0m\u001b[37m\u001b[0m \u001b[1m0s\u001b[0m 408ms/step\n",
      "\u001b[1m1/1\u001b[0m \u001b[32m━━━━━━━━━━━━━━━━━━━━\u001b[0m\u001b[37m\u001b[0m \u001b[1m0s\u001b[0m 267ms/step\n",
      "\u001b[1m1/1\u001b[0m \u001b[32m━━━━━━━━━━━━━━━━━━━━\u001b[0m\u001b[37m\u001b[0m \u001b[1m0s\u001b[0m 235ms/step\n",
      "\u001b[1m1/1\u001b[0m \u001b[32m━━━━━━━━━━━━━━━━━━━━\u001b[0m\u001b[37m\u001b[0m \u001b[1m0s\u001b[0m 377ms/step\n",
      "\u001b[1m1/1\u001b[0m \u001b[32m━━━━━━━━━━━━━━━━━━━━\u001b[0m\u001b[37m\u001b[0m \u001b[1m0s\u001b[0m 251ms/step\n",
      "\u001b[1m1/1\u001b[0m \u001b[32m━━━━━━━━━━━━━━━━━━━━\u001b[0m\u001b[37m\u001b[0m \u001b[1m0s\u001b[0m 236ms/step\n",
      "\u001b[1m1/1\u001b[0m \u001b[32m━━━━━━━━━━━━━━━━━━━━\u001b[0m\u001b[37m\u001b[0m \u001b[1m0s\u001b[0m 377ms/step\n",
      "\u001b[1m1/1\u001b[0m \u001b[32m━━━━━━━━━━━━━━━━━━━━\u001b[0m\u001b[37m\u001b[0m \u001b[1m0s\u001b[0m 251ms/step\n",
      "\u001b[1m1/1\u001b[0m \u001b[32m━━━━━━━━━━━━━━━━━━━━\u001b[0m\u001b[37m\u001b[0m \u001b[1m0s\u001b[0m 235ms/step\n",
      "\u001b[1m1/1\u001b[0m \u001b[32m━━━━━━━━━━━━━━━━━━━━\u001b[0m\u001b[37m\u001b[0m \u001b[1m0s\u001b[0m 346ms/step\n",
      "\u001b[1m1/1\u001b[0m \u001b[32m━━━━━━━━━━━━━━━━━━━━\u001b[0m\u001b[37m\u001b[0m \u001b[1m0s\u001b[0m 242ms/step\n",
      "\u001b[1m1/1\u001b[0m \u001b[32m━━━━━━━━━━━━━━━━━━━━\u001b[0m\u001b[37m\u001b[0m \u001b[1m0s\u001b[0m 235ms/step\n",
      "\u001b[1m1/1\u001b[0m \u001b[32m━━━━━━━━━━━━━━━━━━━━\u001b[0m\u001b[37m\u001b[0m \u001b[1m0s\u001b[0m 345ms/step\n",
      "\u001b[1m1/1\u001b[0m \u001b[32m━━━━━━━━━━━━━━━━━━━━\u001b[0m\u001b[37m\u001b[0m \u001b[1m0s\u001b[0m 236ms/step\n",
      "\u001b[1m1/1\u001b[0m \u001b[32m━━━━━━━━━━━━━━━━━━━━\u001b[0m\u001b[37m\u001b[0m \u001b[1m0s\u001b[0m 393ms/step\n",
      "\u001b[1m1/1\u001b[0m \u001b[32m━━━━━━━━━━━━━━━━━━━━\u001b[0m\u001b[37m\u001b[0m \u001b[1m0s\u001b[0m 267ms/step\n",
      "Epoch 1/5\n",
      "\u001b[1m2/2\u001b[0m \u001b[32m━━━━━━━━━━━━━━━━━━━━\u001b[0m\u001b[37m\u001b[0m \u001b[1m8s\u001b[0m 871ms/step - accuracy: 0.6015 - loss: 2.9279 - val_accuracy: 0.2000 - val_loss: 10.8756\n",
      "Epoch 2/5\n",
      "\u001b[1m2/2\u001b[0m \u001b[32m━━━━━━━━━━━━━━━━━━━━\u001b[0m\u001b[37m\u001b[0m \u001b[1m0s\u001b[0m 126ms/step - accuracy: 0.8624 - loss: 0.7790 - val_accuracy: 0.3000 - val_loss: 4.9729\n",
      "Epoch 3/5\n",
      "\u001b[1m2/2\u001b[0m \u001b[32m━━━━━━━━━━━━━━━━━━━━\u001b[0m\u001b[37m\u001b[0m \u001b[1m0s\u001b[0m 152ms/step - accuracy: 1.0000 - loss: 1.1852e-05 - val_accuracy: 0.4000 - val_loss: 1.7485\n",
      "Epoch 4/5\n",
      "\u001b[1m2/2\u001b[0m \u001b[32m━━━━━━━━━━━━━━━━━━━━\u001b[0m\u001b[37m\u001b[0m \u001b[1m0s\u001b[0m 157ms/step - accuracy: 1.0000 - loss: 0.0055 - val_accuracy: 0.7000 - val_loss: 1.4595\n",
      "Epoch 5/5\n",
      "\u001b[1m2/2\u001b[0m \u001b[32m━━━━━━━━━━━━━━━━━━━━\u001b[0m\u001b[37m\u001b[0m \u001b[1m0s\u001b[0m 141ms/step - accuracy: 1.0000 - loss: 5.0199e-05 - val_accuracy: 0.8000 - val_loss: 1.5082\n"
     ]
    },
    {
     "name": "stderr",
     "output_type": "stream",
     "text": [
      "WARNING:absl:You are saving your model as an HDF5 file via `model.save()` or `keras.saving.save_model(model)`. This file format is considered legacy. We recommend using instead the native Keras format, e.g. `model.save('my_model.keras')` or `keras.saving.save_model(model, 'my_model.keras')`. \n"
     ]
    }
   ],
   "source": [
    "import numpy as np\n",
    "import cv2\n",
    "from nltk.tokenize import word_tokenize\n",
    "from nltk.corpus import stopwords\n",
    "from nltk.stem import WordNetLemmatizer\n",
    "from tensorflow.keras.models import Model\n",
    "from tensorflow.keras.layers import Dense, LSTM, Embedding, Input, concatenate, Reshape\n",
    "from tensorflow.keras.preprocessing.text import Tokenizer\n",
    "from tensorflow.keras.preprocessing.sequence import pad_sequences\n",
    "from keras.applications.vgg16 import preprocess_input\n",
    "from keras.applications import VGG16\n",
    "\n",
    "# Define the base model\n",
    "base_model = VGG16(weights='imagenet', include_top=False, input_shape=(224, 224, 3))\n",
    "\n",
    "# Load and preprocess textual data\n",
    "def preprocess_text(texts):\n",
    "    lemmatizer = WordNetLemmatizer()\n",
    "    preprocessed_texts = []\n",
    "    for text in texts:\n",
    "        if isinstance(text, str):\n",
    "            tokens = word_tokenize(text.lower())\n",
    "            tokens = [lemmatizer.lemmatize(word) for word in tokens if word not in stopwords.words('english')]\n",
    "            preprocessed_texts.append(\" \".join(tokens))\n",
    "    return preprocessed_texts\n",
    "\n",
    "# Load and preprocess image data using pre-trained VGG16 model\n",
    "def preprocess_image(image_paths):\n",
    "    preprocessed_images = []\n",
    "    for image_path in image_paths:\n",
    "        try:\n",
    "            image = cv2.imread(image_path)\n",
    "            if image is not None:\n",
    "                image = cv2.resize(image, (224, 224))\n",
    "                image = np.expand_dims(image, axis=0)\n",
    "                image = preprocess_input(image) \n",
    "                features = base_model.predict(image)\n",
    "                preprocessed_images.append(features.flatten())\n",
    "        except Exception as e:\n",
    "            print(f\"Error processing image {image_path}: {e}\")\n",
    "    return np.array(preprocessed_images)\n",
    "\n",
    "# Load and preprocess audio data (dummy function for demonstration)\n",
    "def preprocess_audio(audio_paths):\n",
    "    preprocessed_audios = []\n",
    "    for audio_path in audio_paths:\n",
    "        audio_features = np.random.rand(100)  # Example audio feature size\n",
    "        preprocessed_audios.append(audio_features)\n",
    "    return np.array(preprocessed_audios)\n",
    "\n",
    "# Load multimodal data\n",
    "def load_data(text_data_path, image_data_paths, audio_data_paths, labels_path):\n",
    "    text_data = pd.read_csv(text_data_path)['text']\n",
    "    processed_text_data = preprocess_text(text_data)\n",
    "    \n",
    "    processed_image_data = preprocess_image(image_data_paths)\n",
    "    \n",
    "    processed_audio_data = preprocess_audio(audio_data_paths)\n",
    "    \n",
    "    labels = pd.read_csv(labels_path)['label']\n",
    "    \n",
    "    # Ensure consistent sample sizes\n",
    "    min_samples = min(len(processed_text_data), len(processed_image_data), len(processed_audio_data), len(labels))\n",
    "    processed_text_data = processed_text_data[:min_samples]\n",
    "    processed_image_data = processed_image_data[:min_samples]\n",
    "    processed_audio_data = processed_audio_data[:min_samples]\n",
    "    labels = labels[:min_samples]\n",
    "    \n",
    "    return processed_text_data, processed_image_data, processed_audio_data, labels\n",
    "\n",
    "# Define multimodal fusion model\n",
    "def build_model(text_maxlen, image_input_shape, audio_input_shape):\n",
    "    text_input = Input(shape=(text_maxlen,))\n",
    "    text_embed = Embedding(input_dim=10000, output_dim=100)(text_input)\n",
    "    text_lstm = LSTM(units=64)(text_embed)\n",
    "\n",
    "    image_input = Input(shape=image_input_shape)\n",
    "    image_dense = Dense(64, activation='relu')(image_input)\n",
    "\n",
    "    audio_input = Input(shape=audio_input_shape) \n",
    "    audio_lstm = LSTM(units=64)(audio_input)\n",
    "\n",
    "    concatenated = concatenate([text_lstm, image_dense, audio_lstm])\n",
    "\n",
    "    dense = Dense(64, activation='relu')(concatenated)\n",
    "    output = Dense(1, activation='sigmoid')(dense)\n",
    "\n",
    "    model = Model(inputs=[text_input, image_input, audio_input], outputs=output)\n",
    "    return model\n",
    "\n",
    "# Load data paths\n",
    "text_data_path = 'sample_text_data.csv'\n",
    "image_data_paths = ['p1.jpeg','p2.jpeg','p3.jpg','p4.jpg','p5.jpg','p6.jpg','p7.jpg','p8.jpg','p9.jpg','p10.jpeg','p11.jpg','p12.jpg','p13.jpg','p14.jpg','p15.jpg','p16.jpg','p17.jpg','p18.jpg','p19.jpg','p20.jpeg','p21.jpeg','p22.jpeg','p23.jpg','p24.jpg','p25.jpg','p26.jpg','p27.jpg','p28.jpg','p29.jpg','p30.jpg','p31.jpg','p32.jpg','p33.jpg','p34.jpg','p35.jpg','p36.jpg','p37.jpg','p38.jpg','p39.jpg','p40.jpg','p41.jpg','p42.jpg','p43.jpg','p44.jpg','p45.jpg','p46.jpg','p47.jpg','p48.jpg','p49.jpg','p50.jpg']  # Replace with actual image paths\n",
    "audio_data_paths = ['a1.mp3', 'a2.mp3', 'a3.mp3','a4.mp3','a5.mp3','a6.mp3','a7.mp3','a8.mp3','a9.mp3','a10.mp3','a11.mp3','a12.mp3','a13.mp3','a14.mp3','a15.mp3','a16.mp3','a17.mp3','a18.mp3','a19.mp3','a20.mp3','a21.mp3','a22.mp3','a23.mp3','a24.mp3','a25.mp3','a26.mp3','a27.mp3','a28.mp3','a29.mp3','a30.mp3','a31.mp3','a32.mp3','a33.mp3','a34.mp3','a35.mp3','a36.mp3','a37.mp3','a38.mp3','a1.mp3','a2.mp3','a3.mp3','a4.mp3','a5.mp3','a6.mp3','a7.mp3','a8.mp3','a9.mp3','a10.mp3','a11.mp3','a12.mp3']  # Replace with actual audio paths\n",
    "labels_path = 'sample_labels.csv'\n",
    "\n",
    "# Load and preprocess data\n",
    "text_data, image_data, audio_data, labels = load_data(text_data_path, image_data_paths, audio_data_paths, labels_path)\n",
    "\n",
    "# Tokenize and pad text data\n",
    "tokenizer = Tokenizer()\n",
    "tokenizer.fit_on_texts(text_data)\n",
    "sequences = tokenizer.texts_to_sequences(text_data)\n",
    "text_maxlen = 100  # Example maximum length of text sequence\n",
    "text_data = pad_sequences(sequences, maxlen=text_maxlen)\n",
    "\n",
    "# Set input shapes\n",
    "image_input_shape = (25088,) \n",
    "audio_input_shape = (100, 1)\n",
    "\n",
    "# Build and compile multimodal fusion model\n",
    "model = build_model(text_maxlen, image_input_shape, audio_input_shape)\n",
    "model.compile(optimizer='adam', loss='binary_crossentropy', metrics=['accuracy'])\n",
    "\n",
    "# Train the model\n",
    "history = model.fit([text_data, image_data, audio_data], labels, epochs=5, batch_size=32, validation_split=0.20)\n",
    "\n",
    "# Save the model for future use if needed\n",
    "model.save(\"multimodal_fusion_model.h5\")"
   ]
  },
  {
   "cell_type": "markdown",
   "id": "1b602feb",
   "metadata": {},
   "source": [
    "## Analysing Accuracy Of Trained Model"
   ]
  },
  {
   "cell_type": "code",
   "execution_count": 9,
   "id": "9369e01e",
   "metadata": {
    "scrolled": true
   },
   "outputs": [
    {
     "data": {
      "image/png": "[encoded data removed]",
      "text/plain": [
       "<Figure size 1000x500 with 2 Axes>"
      ]
     },
     "metadata": {},
     "output_type": "display_data"
    }
   ],
   "source": [
    "import matplotlib.pyplot as plt\n",
    "\n",
    "# Extract metrics and losses\n",
    "accuracy = history.history['accuracy']\n",
    "loss = history.history['loss']\n",
    "val_accuracy = history.history['val_accuracy']\n",
    "val_loss = history.history['val_loss']  # Corrected here\n",
    "epochs = range(1, len(accuracy) + 1)\n",
    "\n",
    "# Visualize metrics and losses\n",
    "plt.figure(figsize=(10, 5))\n",
    "\n",
    "# Plot accuracy\n",
    "plt.subplot(1, 2, 1)\n",
    "plt.plot(epochs, accuracy, label='Training Accuracy', marker='o', color='blue')\n",
    "plt.plot(epochs, val_accuracy, label='Validation Accuracy', marker='o', color='green')\n",
    "plt.title('Training and Validation Accuracy')\n",
    "plt.xlabel('Epochs')\n",
    "plt.ylabel('Accuracy')\n",
    "plt.legend()\n",
    "\n",
    "# Plot loss\n",
    "plt.subplot(1, 2, 2)\n",
    "plt.plot(epochs, loss, label='Training Loss', marker='o', color='red')\n",
    "plt.plot(epochs, val_loss, label='Validation Loss', marker='o', color='orange')\n",
    "plt.title('Training and Validation Loss')\n",
    "plt.xlabel('Epochs')\n",
    "plt.ylabel('Loss')\n",
    "plt.legend()\n",
    "\n",
    "plt.tight_layout()\n",
    "plt.show()\n"
   ]
  },
  {
   "cell_type": "markdown",
   "id": "37c7f7b9",
   "metadata": {},
   "source": [
    "### Error Ananlysis"
   ]
  },
  {
   "cell_type": "code",
   "execution_count": 10,
   "id": "cb04da2d",
   "metadata": {},
   "outputs": [
    {
     "name": "stdout",
     "output_type": "stream",
     "text": [
      "\u001b[1m2/2\u001b[0m \u001b[32m━━━━━━━━━━━━━━━━━━━━\u001b[0m\u001b[37m\u001b[0m \u001b[1m1s\u001b[0m 701ms/step\n",
      "Evaluation Metrics:\n",
      "Accuracy: 0.96\n",
      "Precision: 0.95\n",
      "Recall: 0.95\n",
      "F1-score: 0.95\n",
      "ROC-AUC score: 0.99\n"
     ]
    }
   ],
   "source": [
    "from sklearn.metrics import accuracy_score, precision_score, recall_score, f1_score, roc_auc_score\n",
    "\n",
    "# Assuming you have your original data (text_data, image_data, audio_data, and labels) for evaluation\n",
    "# Use the model to make predictions on the original data\n",
    "predictions = model.predict([text_data, image_data, audio_data])\n",
    "\n",
    "# Convert predictions to binary labels (0 or 1) based on a threshold (e.g., 0.5)\n",
    "binary_predictions = (predictions > 0.5).astype(int)\n",
    "\n",
    "# Compute evaluation metrics\n",
    "accuracy = accuracy_score(labels, binary_predictions)\n",
    "precision = precision_score(labels, binary_predictions)\n",
    "recall = recall_score(labels, binary_predictions)\n",
    "f1 = f1_score(labels, binary_predictions)\n",
    "roc_auc = roc_auc_score(labels, predictions)\n",
    "\n",
    "# Print the evaluation metrics\n",
    "print(\"Evaluation Metrics:\")\n",
    "print(\"Accuracy:\", round(accuracy, 2))\n",
    "print(\"Precision:\", round(precision, 2))\n",
    "print(\"Recall:\", round(recall, 2))\n",
    "print(\"F1-score:\", round(f1, 2))\n",
    "print(\"ROC-AUC score:\", round(roc_auc, 2))"
   ]
  },
  {
   "cell_type": "markdown",
   "id": "b35694e9",
   "metadata": {},
   "source": [
    "## Testing The Model"
   ]
  },
  {
   "cell_type": "code",
   "execution_count": 11,
   "id": "f82f8220",
   "metadata": {},
   "outputs": [
    {
     "name": "stdout",
     "output_type": "stream",
     "text": [
      "Enter the text: Hey You Nigga\n",
      "Do you want to include audio? (yes/no): yes\n",
      "\u001b[1m1/1\u001b[0m \u001b[32m━━━━━━━━━━━━━━━━━━━━\u001b[0m\u001b[37m\u001b[0m \u001b[1m0s\u001b[0m 362ms/step\n",
      "\u001b[1m1/1\u001b[0m \u001b[32m━━━━━━━━━━━━━━━━━━━━\u001b[0m\u001b[37m\u001b[0m \u001b[1m0s\u001b[0m 62ms/step\n",
      "Bullying class\n"
     ]
    }
   ],
   "source": [
    "import tkinter as tk\n",
    "from tkinter import filedialog\n",
    "from textblob import TextBlob\n",
    "\n",
    "def test_data():\n",
    "    root = tk.Tk()\n",
    "    root.withdraw() \n",
    "\n",
    "    text = input(\"Enter the text: \")\n",
    "\n",
    "    # Ask user whether to include audio or not\n",
    "    include_audio = input(\"Do you want to include audio? (yes/no): \").lower()\n",
    "    if include_audio == 'yes':\n",
    "        audio_path = filedialog.askopenfilename(title=\"Select Audio File\", filetypes=[(\"Audio files\", \"*.wav *.mp3\")])\n",
    "    else:\n",
    "        audio_path = None\n",
    "\n",
    "    image_path = filedialog.askopenfilename(title=\"Select Image File\", filetypes=[(\"Image files\", \"*.png *.jpg *.jpeg\")])\n",
    "    \n",
    "    # Preprocess new data\n",
    "    processed_text = preprocess_text(text)\n",
    "    processed_image = preprocess_image([image_path])\n",
    "    processed_audio = preprocess_audio([audio_path]) if audio_path else None\n",
    "    \n",
    "    threshold = 0.1  # Default threshold\n",
    "    i = 0\n",
    "    \n",
    "    if processed_text and processed_image.any() and (processed_audio is not None and processed_audio.any()):\n",
    "        # Tokenize and pad text data\n",
    "        sequences = tokenizer.texts_to_sequences([processed_text])\n",
    "        processed_text = pad_sequences(sequences, maxlen=text_maxlen)\n",
    "\n",
    "        # Make prediction\n",
    "        prediction = model.predict([processed_text, processed_image, processed_audio])\n",
    "\n",
    "        # Adjust threshold dynamically\n",
    "        if prediction >= threshold:\n",
    "            i += 1  \n",
    "        else:\n",
    "            print(\"Non-Bullying Class\")\n",
    "            return\n",
    "    else:\n",
    "        blob = TextBlob(text)\n",
    "        sentiment_score = blob.sentiment.polarity\n",
    "        if sentiment_score < 0:\n",
    "            i += 1\n",
    "    if i == 1:\n",
    "        print(\"Bullying class\")\n",
    "    else:\n",
    "        print(\"Non-bullying class\")\n",
    "\n",
    "# Test new data\n",
    "test_data()\n"
   ]
  }
 ],
 "metadata": {
  "kernelspec": {
   "display_name": "Python 3 (ipykernel)",
   "language": "python",
   "name": "python3"
  },
  "language_info": {
   "codemirror_mode": {
    "name": "ipython",
    "version": 3
   },
   "file_extension": ".py",
   "mimetype": "text/x-python",
   "name": "python",
   "nbconvert_exporter": "python",
   "pygments_lexer": "ipython3",
   "version": "3.11.5"
  }
 },
 "nbformat": 4,
 "nbformat_minor": 5
}
